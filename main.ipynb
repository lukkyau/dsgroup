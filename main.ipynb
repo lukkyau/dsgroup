{
 "cells": [
  {
   "cell_type": "markdown",
   "metadata": {},
   "source": [
    "# Learning python\n",
    "Crash course in with all python - basic syntax and key packages: numpy, pandas, matplotlib\n",
    "\n",
    "Using ondu's quick template - https://andrewlsyd.github.io/Computer%20Science/python_training_1.html\n"
   ]
  },
  {
   "cell_type": "code",
   "execution_count": 17,
   "metadata": {},
   "outputs": [],
   "source": [
    "# this just gets the notebook to print all the output\n",
    "from IPython.core.interactiveshell import InteractiveShell\n",
    "InteractiveShell.ast_node_interactivity = \"all\""
   ]
  },
  {
   "cell_type": "markdown",
   "metadata": {},
   "source": [
    "## Overview of the syntax\n",
    "Python uses whitespace instead of brackets in order to delimit blocks (i.e. define when certain functions start and end)\n"
   ]
  },
  {
   "cell_type": "code",
   "execution_count": 18,
   "metadata": {},
   "outputs": [
    {
     "name": "stdout",
     "output_type": "stream",
     "text": [
      "5\n",
      "The number 5 is greater than 2\n",
      "this is number  0\n",
      "this is number  1\n",
      "this is number  2\n",
      "this is number  3\n",
      "this is number  4\n",
      "h\n",
      "e\n",
      "l\n",
      "l\n",
      "o\n",
      "while loop 0\n",
      "while loop 1\n",
      "while loop 2\n",
      "while loop 3\n",
      "while loop 4\n",
      "while loop 5\n",
      "while loop 6\n",
      "while loop 7\n",
      "while loop 8\n",
      "while loop 9\n",
      "double_number(2): 1.0\n",
      "double_number(12): 24\n"
     ]
    }
   ],
   "source": [
    "#If/elif/else statements\n",
    "x=5\n",
    "print(x)\n",
    "if x>2:\n",
    "    print(\"The number\",x,\"is greater than 2\")\n",
    "elif x==2:\n",
    "    print(\"The number is equal to 2\")\n",
    "else:\n",
    "    print(\"The number is less than 2\")\n",
    "\n",
    "#For Loops\n",
    "for i in range(5):\n",
    "    print (\"this is number \", i)\n",
    "\n",
    "some_list=['h','e','l','l','o']\n",
    "for letter in some_list:\n",
    "    print(letter)\n",
    "\n",
    "#While loops\n",
    "x=0\n",
    "while x<10:\n",
    "    print(\"while loop\",x)\n",
    "    x+=1  #Basically x=x+1\n",
    "\n",
    "#Functions\n",
    "def double_number(x):\n",
    "    if x>5:\n",
    "        return 2*x\n",
    "    return x/2\n",
    "\n",
    "print(\"double_number(2):\",double_number(2))\n",
    "print(\"double_number(12):\",double_number(12))"
   ]
  },
  {
   "cell_type": "markdown",
   "metadata": {},
   "source": [
    "# Data types"
   ]
  },
  {
   "cell_type": "code",
   "execution_count": 19,
   "metadata": {},
   "outputs": [
    {
     "data": {
      "text/plain": [
       "2"
      ]
     },
     "execution_count": 19,
     "metadata": {},
     "output_type": "execute_result"
    },
    {
     "data": {
      "text/plain": [
       "3"
      ]
     },
     "execution_count": 19,
     "metadata": {},
     "output_type": "execute_result"
    },
    {
     "data": {
      "text/plain": [
       "4"
      ]
     },
     "execution_count": 19,
     "metadata": {},
     "output_type": "execute_result"
    },
    {
     "data": {
      "text/plain": [
       "2.234"
      ]
     },
     "execution_count": 19,
     "metadata": {},
     "output_type": "execute_result"
    },
    {
     "data": {
      "text/plain": [
       "3.2309"
      ]
     },
     "execution_count": 19,
     "metadata": {},
     "output_type": "execute_result"
    },
    {
     "data": {
      "text/plain": [
       "'hello'"
      ]
     },
     "execution_count": 19,
     "metadata": {},
     "output_type": "execute_result"
    },
    {
     "data": {
      "text/plain": [
       "'good bye'"
      ]
     },
     "execution_count": 19,
     "metadata": {},
     "output_type": "execute_result"
    },
    {
     "data": {
      "text/plain": [
       "'she said \"hi\"'"
      ]
     },
     "execution_count": 19,
     "metadata": {},
     "output_type": "execute_result"
    },
    {
     "data": {
      "text/plain": [
       "['capitalize',\n",
       " 'casefold',\n",
       " 'center',\n",
       " 'count',\n",
       " 'encode',\n",
       " 'endswith',\n",
       " 'expandtabs',\n",
       " 'find',\n",
       " 'format',\n",
       " 'format_map',\n",
       " 'index',\n",
       " 'isalnum',\n",
       " 'isalpha',\n",
       " 'isascii',\n",
       " 'isdecimal',\n",
       " 'isdigit',\n",
       " 'isidentifier',\n",
       " 'islower',\n",
       " 'isnumeric',\n",
       " 'isprintable',\n",
       " 'isspace',\n",
       " 'istitle',\n",
       " 'isupper',\n",
       " 'join',\n",
       " 'ljust',\n",
       " 'lower',\n",
       " 'lstrip',\n",
       " 'maketrans',\n",
       " 'partition',\n",
       " 'replace',\n",
       " 'rfind',\n",
       " 'rindex',\n",
       " 'rjust',\n",
       " 'rpartition',\n",
       " 'rsplit',\n",
       " 'rstrip',\n",
       " 'split',\n",
       " 'splitlines',\n",
       " 'startswith',\n",
       " 'strip',\n",
       " 'swapcase',\n",
       " 'title',\n",
       " 'translate',\n",
       " 'upper',\n",
       " 'zfill']"
      ]
     },
     "execution_count": 19,
     "metadata": {},
     "output_type": "execute_result"
    },
    {
     "name": "stdout",
     "output_type": "stream",
     "text": [
      "Bad\n",
      "BAD\n"
     ]
    },
    {
     "data": {
      "text/plain": [
       "True"
      ]
     },
     "execution_count": 19,
     "metadata": {},
     "output_type": "execute_result"
    },
    {
     "data": {
      "text/plain": [
       "False"
      ]
     },
     "execution_count": 19,
     "metadata": {},
     "output_type": "execute_result"
    },
    {
     "data": {
      "text/plain": [
       "2"
      ]
     },
     "execution_count": 19,
     "metadata": {},
     "output_type": "execute_result"
    },
    {
     "data": {
      "text/plain": [
       "50"
      ]
     },
     "execution_count": 19,
     "metadata": {},
     "output_type": "execute_result"
    },
    {
     "name": "stdout",
     "output_type": "stream",
     "text": [
      "Number 0 is false\n",
      "Number 2 is true\n"
     ]
    }
   ],
   "source": [
    "# Different data types of python\n",
    "\n",
    "#Integers - numbers iwthout a decimal point\n",
    "2\n",
    "3\n",
    "4\n",
    "\n",
    "#Floats - these are basically numbers with decimals, use these when there's greater precision needed.\n",
    "2.234\n",
    "3.2309\n",
    "\n",
    "# Strings - these are series of characters\n",
    "\"hello\"\n",
    "'good bye' #you can use either, but if you want either single/double quotation marks in there then you need to use the opposite one to delimit\n",
    "'she said \"hi\"'\n",
    "[x for x in dir(str) if not x.startswith('_')]\n",
    "\n",
    "bad='bad'\n",
    "print(bad.capitalize())\n",
    "print(bad.upper())\n",
    "\n",
    "# Booleans - either true or false\n",
    "True\n",
    "False\n",
    "True + 1 #True/false given value of 1 and 0 - so can actually use these for functions too\n",
    "50 + False\n",
    "\n",
    "def number_true(number):\n",
    "    if number:\n",
    "        print(\"Number\",number,\"is true\")\n",
    "    else:\n",
    "        print(\"Number\",number,\"is false\")\n",
    "\n",
    "\n",
    "number_true(0)\n",
    "number_true(2) #Any number other than 0 is true"
   ]
  },
  {
   "cell_type": "markdown",
   "metadata": {},
   "source": [
    "# Data structures in python\n",
    "\n",
    "## Lists \n",
    "These can hold anything (i.e. any of the basic data types above like integer, float, string, boolean - and even other data structures and functions). This is indicated by the square brackets [ ]\n"
   ]
  },
  {
   "cell_type": "code",
   "execution_count": 20,
   "metadata": {},
   "outputs": [
    {
     "data": {
      "text/plain": [
       "[1, 2, 3, 3.14, 'hi', 'there', True, False]"
      ]
     },
     "execution_count": 20,
     "metadata": {},
     "output_type": "execute_result"
    },
    {
     "data": {
      "text/plain": [
       "[['this is a string in a list'],\n",
       " {'this is a string in a SET'},\n",
       " {'apple': 'red', 'strawberry': 'red'}]"
      ]
     },
     "execution_count": 20,
     "metadata": {},
     "output_type": "execute_result"
    },
    {
     "data": {
      "text/plain": [
       "[<function __main__.add_2(x)>, <function __main__.add_3(x)>]"
      ]
     },
     "execution_count": 20,
     "metadata": {},
     "output_type": "execute_result"
    },
    {
     "data": {
      "text/plain": [
       "1"
      ]
     },
     "execution_count": 20,
     "metadata": {},
     "output_type": "execute_result"
    },
    {
     "data": {
      "text/plain": [
       "3"
      ]
     },
     "execution_count": 20,
     "metadata": {},
     "output_type": "execute_result"
    },
    {
     "data": {
      "text/plain": [
       "[1, 2]"
      ]
     },
     "execution_count": 20,
     "metadata": {},
     "output_type": "execute_result"
    },
    {
     "data": {
      "text/plain": [
       "[3, 4]"
      ]
     },
     "execution_count": 20,
     "metadata": {},
     "output_type": "execute_result"
    },
    {
     "data": {
      "text/plain": [
       "[3, 4, 5]"
      ]
     },
     "execution_count": 20,
     "metadata": {},
     "output_type": "execute_result"
    },
    {
     "data": {
      "text/plain": [
       "[1, 2]"
      ]
     },
     "execution_count": 20,
     "metadata": {},
     "output_type": "execute_result"
    },
    {
     "name": "stdout",
     "output_type": "stream",
     "text": [
      "[0, 1, 2, 3, 4]\n"
     ]
    },
    {
     "data": {
      "text/plain": [
       "['__add__',\n",
       " '__class__',\n",
       " '__contains__',\n",
       " '__delattr__',\n",
       " '__delitem__',\n",
       " '__dir__',\n",
       " '__doc__',\n",
       " '__eq__',\n",
       " '__format__',\n",
       " '__ge__',\n",
       " '__getattribute__',\n",
       " '__getitem__',\n",
       " '__gt__',\n",
       " '__hash__',\n",
       " '__iadd__',\n",
       " '__imul__',\n",
       " '__init__',\n",
       " '__init_subclass__',\n",
       " '__iter__',\n",
       " '__le__',\n",
       " '__len__',\n",
       " '__lt__',\n",
       " '__mul__',\n",
       " '__ne__',\n",
       " '__new__',\n",
       " '__reduce__',\n",
       " '__reduce_ex__',\n",
       " '__repr__',\n",
       " '__reversed__',\n",
       " '__rmul__',\n",
       " '__setattr__',\n",
       " '__setitem__',\n",
       " '__sizeof__',\n",
       " '__str__',\n",
       " '__subclasshook__',\n",
       " 'append',\n",
       " 'clear',\n",
       " 'copy',\n",
       " 'count',\n",
       " 'extend',\n",
       " 'index',\n",
       " 'insert',\n",
       " 'pop',\n",
       " 'remove',\n",
       " 'reverse',\n",
       " 'sort']"
      ]
     },
     "execution_count": 20,
     "metadata": {},
     "output_type": "execute_result"
    }
   ],
   "source": [
    "\n",
    "[1,2,3,3.14,\"hi\",\"there\",True,False]\n",
    "\n",
    "[[\"this is a string in a list\"],{\"this is a string in a SET\"},{'apple':'red','strawberry':'red'}]\n",
    "\n",
    "def add_2(x):\n",
    "    return x+2\n",
    "\n",
    "def add_3(x):\n",
    "    return x+3\n",
    "\n",
    "[add_2,add_3]\n",
    "\n",
    "#to access list, put the list name and then quare brackets - note that the indexing starts at 0 (rather than 1)\n",
    "my_list=[1,2,3,4,5]\n",
    "my_list[0]\n",
    "my_list[2]\n",
    "\n",
    "\n",
    "#to slice between lists, use a colon \n",
    "my_list[0:2] #note that the index at the right of the colon operator ISN'T included in the slice (so 0:2 returns only the first two digits)\n",
    "my_list[2:4]\n",
    "my_list[2:]\n",
    "my_list[:2]\n",
    "\n",
    "#a common way to build up a list is to start off with an empty list, and then build it up with a loop\n",
    "x=[]\n",
    "for i in range(5):\n",
    "    x.append(i)\n",
    "print(x)\n",
    "\n",
    "y=[i for i in range(5)] #alternative method using list comprehensions\n",
    "\n",
    "#The dir() function gives you a list of any object\n",
    "dir(list)"
   ]
  },
  {
   "cell_type": "code",
   "execution_count": 21,
   "metadata": {},
   "outputs": [
    {
     "data": {
      "text/plain": [
       "['list.append',\n",
       " 'list.clear',\n",
       " 'list.copy',\n",
       " 'list.count',\n",
       " 'list.extend',\n",
       " 'list.index',\n",
       " 'list.insert',\n",
       " 'list.pop',\n",
       " 'list.remove',\n",
       " 'list.reverse',\n",
       " 'list.sort']"
      ]
     },
     "execution_count": 21,
     "metadata": {},
     "output_type": "execute_result"
    }
   ],
   "source": [
    "# Use a \"list comprehension\" to find all the list methods\n",
    "# [ SOME ACTION for SOMETHING in ITERABLE if CONDITION]\n",
    "['list.'+something for something in dir(list) if not something.startswith('_')]"
   ]
  },
  {
   "cell_type": "code",
   "execution_count": 22,
   "metadata": {},
   "outputs": [
    {
     "data": {
      "text/plain": [
       "['capitalize',\n",
       " 'casefold',\n",
       " 'center',\n",
       " 'count',\n",
       " 'encode',\n",
       " 'endswith',\n",
       " 'expandtabs',\n",
       " 'find',\n",
       " 'format',\n",
       " 'format_map',\n",
       " 'index',\n",
       " 'isalnum',\n",
       " 'isalpha',\n",
       " 'isascii',\n",
       " 'isdecimal',\n",
       " 'isdigit',\n",
       " 'isidentifier',\n",
       " 'islower',\n",
       " 'isnumeric',\n",
       " 'isprintable',\n",
       " 'isspace',\n",
       " 'istitle',\n",
       " 'isupper',\n",
       " 'join',\n",
       " 'ljust',\n",
       " 'lower',\n",
       " 'lstrip',\n",
       " 'maketrans',\n",
       " 'partition',\n",
       " 'replace',\n",
       " 'rfind',\n",
       " 'rindex',\n",
       " 'rjust',\n",
       " 'rpartition',\n",
       " 'rsplit',\n",
       " 'rstrip',\n",
       " 'split',\n",
       " 'splitlines',\n",
       " 'startswith',\n",
       " 'strip',\n",
       " 'swapcase',\n",
       " 'title',\n",
       " 'translate',\n",
       " 'upper',\n",
       " 'zfill']"
      ]
     },
     "execution_count": 22,
     "metadata": {},
     "output_type": "execute_result"
    }
   ],
   "source": [
    "[x for x in dir(str) if not x.startswith('_')]"
   ]
  },
  {
   "cell_type": "code",
   "execution_count": 23,
   "metadata": {},
   "outputs": [
    {
     "data": {
      "text/plain": [
       "'pandas'"
      ]
     },
     "execution_count": 23,
     "metadata": {},
     "output_type": "execute_result"
    },
    {
     "data": {
      "text/plain": [
       "'PANDAS'"
      ]
     },
     "execution_count": 23,
     "metadata": {},
     "output_type": "execute_result"
    }
   ],
   "source": [
    "mystring=\"pandas\"\n",
    "mystring\n",
    "mystring=mystring.upper()\n",
    "mystring"
   ]
  },
  {
   "cell_type": "code",
   "execution_count": 24,
   "metadata": {},
   "outputs": [
    {
     "name": "stdout",
     "output_type": "stream",
     "text": [
      "Help on method_descriptor:\n",
      "\n",
      "extend(self, iterable, /)\n",
      "    Extend list by appending elements from the iterable.\n",
      "\n",
      "Help on method_descriptor:\n",
      "\n",
      "append(self, object, /)\n",
      "    Append object to the end of the list.\n",
      "\n",
      "Help on method_descriptor:\n",
      "\n",
      "pop(self, index=-1, /)\n",
      "    Remove and return item at index (default last).\n",
      "    \n",
      "    Raises IndexError if list is empty or index is out of range.\n",
      "\n",
      "Help on method_descriptor:\n",
      "\n",
      "sort(self, /, *, key=None, reverse=False)\n",
      "    Stable sort *IN PLACE*.\n",
      "\n"
     ]
    },
    {
     "data": {
      "text/plain": [
       "[1, 2, 3, 2, 1]"
      ]
     },
     "execution_count": 24,
     "metadata": {},
     "output_type": "execute_result"
    },
    {
     "data": {
      "text/plain": [
       "1"
      ]
     },
     "execution_count": 24,
     "metadata": {},
     "output_type": "execute_result"
    },
    {
     "data": {
      "text/plain": [
       "[1, 2, 3, 2]"
      ]
     },
     "execution_count": 24,
     "metadata": {},
     "output_type": "execute_result"
    },
    {
     "data": {
      "text/plain": [
       "[1, 2, 2, 3]"
      ]
     },
     "execution_count": 24,
     "metadata": {},
     "output_type": "execute_result"
    }
   ],
   "source": [
    "#useful LIST methods (i.e. methods applied to a list OBJECT) and the help function\n",
    "help(list.extend) #extend appends the elements from the iterable (i.e. it adds in each ELEMENT of the ITERABLE)\n",
    "help(list.append) #append just adds the iterable itself (i.e. it adds in the whole ITERABLE - not the elements of that ITERABLE)\n",
    "help(list.pop)   #removes the last element of the list, and returns it as an output\n",
    "help(list.sort)  #sorts the list\n",
    "\n",
    "# ITERABLE = object that you can iterate over\n",
    "# ITERATOR = object that is usd to iterable over an ITERABLE\n",
    "# e.g. a LIST is ITERABLE but is not a ITERATOR\n",
    "y=[1,2,3,2,1]\n",
    "y\n",
    "y.pop()\n",
    "y\n",
    "y.sort()\n",
    "y"
   ]
  },
  {
   "cell_type": "markdown",
   "metadata": {},
   "source": [
    "## Tuples\n",
    "Tuples are essentially LISTS but they are IMMUTABLE - i.e. once you've defined it, then you can no longer change it. It's good to store things that you DO NOT want to be changed after creation. \n",
    "\n",
    "They are defined by normal brackets () - whereas lists are defined by square brackets []"
   ]
  },
  {
   "cell_type": "code",
   "execution_count": 25,
   "metadata": {},
   "outputs": [
    {
     "data": {
      "text/plain": [
       "('p', 'a', 'n', 'd', 'a')"
      ]
     },
     "execution_count": 25,
     "metadata": {},
     "output_type": "execute_result"
    }
   ],
   "source": [
    "my_tuple=('p','a','n','d','a',123,2.3,dir())\n",
    "#slicing tuples - need to use square brackets to slice though\n",
    "my_tuple[:5]"
   ]
  },
  {
   "cell_type": "markdown",
   "metadata": {},
   "source": [
    "## Sets\n",
    "As in maths, sets is an UNORDERED collection with no DUPLICATE elements. Main uses for sets include - \n",
    "- checking membership of a set\n",
    "- set unions, differences and intersections\n",
    "- when you need a datastructure where there are unique values (lists and tuples can both have duplicates)\n",
    "\n",
    "Sets are defined by CURLY BRACKETS {}\n"
   ]
  },
  {
   "cell_type": "code",
   "execution_count": 28,
   "metadata": {},
   "outputs": [
    {
     "data": {
      "text/plain": [
       "['add',\n",
       " 'clear',\n",
       " 'copy',\n",
       " 'difference',\n",
       " 'difference_update',\n",
       " 'discard',\n",
       " 'intersection',\n",
       " 'intersection_update',\n",
       " 'isdisjoint',\n",
       " 'issubset',\n",
       " 'issuperset',\n",
       " 'pop',\n",
       " 'remove',\n",
       " 'symmetric_difference',\n",
       " 'symmetric_difference_update',\n",
       " 'union',\n",
       " 'update']"
      ]
     },
     "execution_count": 28,
     "metadata": {},
     "output_type": "execute_result"
    }
   ],
   "source": [
    "[x for x in dir(set) if not x.startswith('_')] \n",
    "#the starts with removes all attributes"
   ]
  },
  {
   "cell_type": "code",
   "execution_count": 35,
   "metadata": {},
   "outputs": [
    {
     "data": {
      "text/plain": [
       "{'bamboo', 'panby'}"
      ]
     },
     "execution_count": 35,
     "metadata": {},
     "output_type": "execute_result"
    },
    {
     "data": {
      "text/plain": [
       "{'bones', 'panbans', 'panby'}"
      ]
     },
     "execution_count": 35,
     "metadata": {},
     "output_type": "execute_result"
    },
    {
     "data": {
      "text/plain": [
       "{'bamboo', 'chocolate', 'panby'}"
      ]
     },
     "execution_count": 35,
     "metadata": {},
     "output_type": "execute_result"
    },
    {
     "data": {
      "text/plain": [
       "{'panby'}"
      ]
     },
     "execution_count": 35,
     "metadata": {},
     "output_type": "execute_result"
    },
    {
     "data": {
      "text/plain": [
       "True"
      ]
     },
     "execution_count": 35,
     "metadata": {},
     "output_type": "execute_result"
    },
    {
     "data": {
      "text/plain": [
       "False"
      ]
     },
     "execution_count": 35,
     "metadata": {},
     "output_type": "execute_result"
    }
   ],
   "source": [
    "stuff_pandas_like = {\"bamboo\",\"panby\"}\n",
    "stuff_doggies_like={\"bones\",\"panby\",\"panbans\"}\n",
    "stuff_pandas_like\n",
    "stuff_doggies_like\n",
    "stuff_pandas_like.add(\"chocolate\")\n",
    "stuff_pandas_like.add(\"bamboo\")\n",
    "stuff_pandas_like\n",
    "\n",
    "stuff_pandas_like.intersection(stuff_doggies_like) \n",
    "#pandas and doggies both like panby\n",
    "\n",
    "\"panby\" in stuff_pandas_like \n",
    "\"eels\" in stuff_pandas_like"
   ]
  },
  {
   "cell_type": "markdown",
   "metadata": {},
   "source": [
    "## Dictionaries\n",
    "This data type has a mapping from a UNIQUE key to a value (i.e. VLOOKUP from excel, except the lookup value has to be unique). They use CURLY BRACKETS {} with a colon :"
   ]
  },
  {
   "cell_type": "code",
   "execution_count": 38,
   "metadata": {},
   "outputs": [
    {
     "data": {
      "text/plain": [
       "{'Linear regression': 'Regressors',\n",
       " 'Decision trees': 'Regressors or classifiers',\n",
       " 'SVMs': 'Regressors or classifiers',\n",
       " 'Naive bayes models': 'Classifiers',\n",
       " 'K nearest neighbours': 'Regressors or classifiers'}"
      ]
     },
     "execution_count": 38,
     "metadata": {},
     "output_type": "execute_result"
    }
   ],
   "source": [
    "ML_models = {'Linear regression':'Regressors','Decision trees':'Regressors or classifiers','SVMs':'Regressors or classifiers','Naive bayes models':'Classifiers','K nearest neighbours':'Regressors or classifiers'}\n",
    "ML_models"
   ]
  },
  {
   "cell_type": "code",
   "execution_count": 41,
   "metadata": {},
   "outputs": [
    {
     "data": {
      "text/plain": [
       "'Classifiers'"
      ]
     },
     "execution_count": 41,
     "metadata": {},
     "output_type": "execute_result"
    },
    {
     "data": {
      "text/plain": [
       "'Regressors or classifiers'"
      ]
     },
     "execution_count": 41,
     "metadata": {},
     "output_type": "execute_result"
    },
    {
     "name": "stdout",
     "output_type": "stream",
     "text": [
      "Linear regression are Regressors\n",
      "Decision trees are Regressors or classifiers\n",
      "SVMs are Regressors or classifiers\n",
      "Naive bayes models are Classifiers\n",
      "K nearest neighbours are Regressors or classifiers\n"
     ]
    }
   ],
   "source": [
    "# Can use index notation to access dictionaries\n",
    "ML_models['Naive bayes models']\n",
    "ML_models['K nearest neighbours']\n",
    "for model in ML_models:\n",
    "    print(model,\"are\",ML_models[model])"
   ]
  },
  {
   "cell_type": "markdown",
   "metadata": {},
   "source": [
    "## Functions\n",
    "Functions are used to create reusable code that can be called multiple times. They use \n",
    "```\n",
    "def func_name(arg1,arg2,...):\n",
    "```"
   ]
  },
  {
   "cell_type": "code",
   "execution_count": 46,
   "metadata": {},
   "outputs": [
    {
     "data": {
      "text/plain": [
       "[1, 1, 2, 3, 5, 8, 13, 21, 34, 55]"
      ]
     },
     "execution_count": 46,
     "metadata": {},
     "output_type": "execute_result"
    },
    {
     "data": {
      "text/plain": [
       "8"
      ]
     },
     "execution_count": 46,
     "metadata": {},
     "output_type": "execute_result"
    },
    {
     "name": "stdout",
     "output_type": "stream",
     "text": [
      "Help on function fibanacci in module __main__:\n",
      "\n",
      "fibanacci(x=5)\n",
      "    This is where the documentation goes.\n",
      "\n"
     ]
    }
   ],
   "source": [
    "# Example of a recursive function\n",
    "def fibanacci(x=5): # Default parameter value\n",
    "    \"\"\"\n",
    "    This is where the documentation goes.\n",
    "    \"\"\"\n",
    "    if x<=1:\n",
    "        return 1 \n",
    "        # Function call ends when a RETURN statement is reached, hence an ELSE statement not actually needed here\n",
    "    return fibanacci(x-2)+fibanacci(x-1)\n",
    "    # If no RETURN is specified, then NONE will be returned.\n",
    "\n",
    "[fibanacci(x) for x in range(10)]\n",
    "\n",
    "fibanacci()\n",
    "\n",
    "help(fibanacci)"
   ]
  },
  {
   "cell_type": "markdown",
   "metadata": {},
   "source": [
    "## Object-orientated programming\n",
    "In Python, everything is an object. Some things to note:\n",
    "- Objects have ATTRIBUTES and METHODS, both are accessed with a dot - .\n",
    "     - ```object.attribute``` - attributes are DATA about that object, stored in the object\n",
    "     - ```object.method()``` - methods are functions associated with an object, so you call it in with brackets ```object.method()``` and can take arguments (just like a normal function).\n",
    "\n",
    "### Classes\n",
    "Classes is a template for objects - many objects can be created from a class. An object is also called an INSTANCE of a class, and the process of creating this object is called INSTANTIATION.\n",
    "- A class creates a new local NAMESPACE where all its attributes are defined - and attributes can be data or functions. There's also special attributes that begin with double underscores ```__``` - e.g. ```__doc__``` gives us the DOCSTRING for that class\n",
    "- As soon as a CLASS is defined, a new class OBJECT is created with the same name.\n",
    "\n",
    "Source - https://www.programiz.com/python-programming/class\n",
    " "
   ]
  },
  {
   "cell_type": "code",
   "execution_count": 52,
   "metadata": {},
   "outputs": [
    {
     "name": "stdout",
     "output_type": "stream",
     "text": [
      "10\n",
      "<function new_class.hello at 0x10c766a70>\n",
      "This is a DOCSTRING - a brief description about the class, not mandatory but recommended.\n"
     ]
    }
   ],
   "source": [
    "# Creating a class\n",
    "class new_class:\n",
    "    '''This is a DOCSTRING - a brief description about the class, not mandatory but recommended.'''\n",
    "    a=10\n",
    "    def hello(self):\n",
    "        print('hello')\n",
    "        \n",
    "print(new_class.a)\n",
    "print(new_class.hello)\n",
    "print(new_class.__doc__)"
   ]
  }
 ],
 "metadata": {
  "kernelspec": {
   "display_name": "Python 3",
   "language": "python",
   "name": "python3"
  },
  "language_info": {
   "codemirror_mode": {
    "name": "ipython",
    "version": 3
   },
   "file_extension": ".py",
   "mimetype": "text/x-python",
   "name": "python",
   "nbconvert_exporter": "python",
   "pygments_lexer": "ipython3",
   "version": "3.7.4"
  }
 },
 "nbformat": 4,
 "nbformat_minor": 2
}
