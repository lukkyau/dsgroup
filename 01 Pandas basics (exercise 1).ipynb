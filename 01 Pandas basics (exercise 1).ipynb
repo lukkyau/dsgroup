{
 "cells": [
  {
   "cell_type": "code",
   "execution_count": 41,
   "metadata": {},
   "outputs": [],
   "source": [
    "%matplotlib inline\n",
    "import pandas as pd\n",
    "\n",
    "# Print all outputs in jupyter notebook\n",
    "from IPython.core.interactiveshell import InteractiveShell\n",
    "InteractiveShell.ast_node_interactivity = \"all\""
   ]
  },
  {
   "cell_type": "code",
   "execution_count": 2,
   "metadata": {},
   "outputs": [
    {
     "output_type": "execute_result",
     "data": {
      "text/plain": "                     title  year\n0           The Rising Son  1990\n1  The Thousand Plane Raid  1969\n2   The Spider and the Fly  1949\n3                  Country  2000\n4          The Golden Note  2017",
      "text/html": "<div>\n<style scoped>\n    .dataframe tbody tr th:only-of-type {\n        vertical-align: middle;\n    }\n\n    .dataframe tbody tr th {\n        vertical-align: top;\n    }\n\n    .dataframe thead th {\n        text-align: right;\n    }\n</style>\n<table border=\"1\" class=\"dataframe\">\n  <thead>\n    <tr style=\"text-align: right;\">\n      <th></th>\n      <th>title</th>\n      <th>year</th>\n    </tr>\n  </thead>\n  <tbody>\n    <tr>\n      <td>0</td>\n      <td>The Rising Son</td>\n      <td>1990</td>\n    </tr>\n    <tr>\n      <td>1</td>\n      <td>The Thousand Plane Raid</td>\n      <td>1969</td>\n    </tr>\n    <tr>\n      <td>2</td>\n      <td>The Spider and the Fly</td>\n      <td>1949</td>\n    </tr>\n    <tr>\n      <td>3</td>\n      <td>Country</td>\n      <td>2000</td>\n    </tr>\n    <tr>\n      <td>4</td>\n      <td>The Golden Note</td>\n      <td>2017</td>\n    </tr>\n  </tbody>\n</table>\n</div>"
     },
     "metadata": {},
     "execution_count": 2
    }
   ],
   "source": [
    "titles = pd.read_csv('pycon-pandas-tutorial/data/titles.csv')\n",
    "titles.head()"
   ]
  },
  {
   "cell_type": "code",
   "execution_count": 3,
   "metadata": {},
   "outputs": [
    {
     "output_type": "execute_result",
     "data": {
      "text/plain": "                  title  year      name   type                character     n\n0        Closet Monster  2015  Buffy #1  actor                  Buffy 4  31.0\n1       Suuri illusioni  1985    Homo $  actor                   Guests  22.0\n2   Battle of the Sexes  2017   $hutter  actor          Bobby Riggs Fan  10.0\n3  Secret in Their Eyes  2015   $hutter  actor          2002 Dodger Fan   NaN\n4            Steve Jobs  2015   $hutter  actor  1988 Opera House Patron   NaN",
      "text/html": "<div>\n<style scoped>\n    .dataframe tbody tr th:only-of-type {\n        vertical-align: middle;\n    }\n\n    .dataframe tbody tr th {\n        vertical-align: top;\n    }\n\n    .dataframe thead th {\n        text-align: right;\n    }\n</style>\n<table border=\"1\" class=\"dataframe\">\n  <thead>\n    <tr style=\"text-align: right;\">\n      <th></th>\n      <th>title</th>\n      <th>year</th>\n      <th>name</th>\n      <th>type</th>\n      <th>character</th>\n      <th>n</th>\n    </tr>\n  </thead>\n  <tbody>\n    <tr>\n      <td>0</td>\n      <td>Closet Monster</td>\n      <td>2015</td>\n      <td>Buffy #1</td>\n      <td>actor</td>\n      <td>Buffy 4</td>\n      <td>31.0</td>\n    </tr>\n    <tr>\n      <td>1</td>\n      <td>Suuri illusioni</td>\n      <td>1985</td>\n      <td>Homo $</td>\n      <td>actor</td>\n      <td>Guests</td>\n      <td>22.0</td>\n    </tr>\n    <tr>\n      <td>2</td>\n      <td>Battle of the Sexes</td>\n      <td>2017</td>\n      <td>$hutter</td>\n      <td>actor</td>\n      <td>Bobby Riggs Fan</td>\n      <td>10.0</td>\n    </tr>\n    <tr>\n      <td>3</td>\n      <td>Secret in Their Eyes</td>\n      <td>2015</td>\n      <td>$hutter</td>\n      <td>actor</td>\n      <td>2002 Dodger Fan</td>\n      <td>NaN</td>\n    </tr>\n    <tr>\n      <td>4</td>\n      <td>Steve Jobs</td>\n      <td>2015</td>\n      <td>$hutter</td>\n      <td>actor</td>\n      <td>1988 Opera House Patron</td>\n      <td>NaN</td>\n    </tr>\n  </tbody>\n</table>\n</div>"
     },
     "metadata": {},
     "execution_count": 3
    }
   ],
   "source": [
    "cast = pd.read_csv('pycon-pandas-tutorial/data/cast.csv')\n",
    "cast.head()"
   ]
  },
  {
   "cell_type": "markdown",
   "metadata": {
    "collapsed": true
   },
   "source": [
    "### How many movies are listed in the titles dataframe?"
   ]
  },
  {
   "cell_type": "code",
   "execution_count": 4,
   "metadata": {},
   "outputs": [
    {
     "output_type": "execute_result",
     "data": {
      "text/plain": "244914"
     },
     "metadata": {},
     "execution_count": 4
    }
   ],
   "source": [
    "len(titles)"
   ]
  },
  {
   "cell_type": "code",
   "execution_count": null,
   "metadata": {
    "collapsed": true
   },
   "outputs": [],
   "source": []
  },
  {
   "cell_type": "markdown",
   "metadata": {
    "collapsed": true
   },
   "source": [
    "### What are the earliest two films listed in the titles dataframe?"
   ]
  },
  {
   "cell_type": "code",
   "execution_count": 5,
   "metadata": {},
   "outputs": [
    {
     "output_type": "execute_result",
     "data": {
      "text/plain": "                     title  year\n187327          Miss Jerry  1894\n226857  The Startled Lover  1898",
      "text/html": "<div>\n<style scoped>\n    .dataframe tbody tr th:only-of-type {\n        vertical-align: middle;\n    }\n\n    .dataframe tbody tr th {\n        vertical-align: top;\n    }\n\n    .dataframe thead th {\n        text-align: right;\n    }\n</style>\n<table border=\"1\" class=\"dataframe\">\n  <thead>\n    <tr style=\"text-align: right;\">\n      <th></th>\n      <th>title</th>\n      <th>year</th>\n    </tr>\n  </thead>\n  <tbody>\n    <tr>\n      <td>187327</td>\n      <td>Miss Jerry</td>\n      <td>1894</td>\n    </tr>\n    <tr>\n      <td>226857</td>\n      <td>The Startled Lover</td>\n      <td>1898</td>\n    </tr>\n  </tbody>\n</table>\n</div>"
     },
     "metadata": {},
     "execution_count": 5
    }
   ],
   "source": [
    "titles.sort_values('year').head(2)"
   ]
  },
  {
   "cell_type": "code",
   "execution_count": null,
   "metadata": {
    "collapsed": true
   },
   "outputs": [],
   "source": []
  },
  {
   "cell_type": "markdown",
   "metadata": {
    "collapsed": true
   },
   "source": [
    "### How many movies have the title \"Hamlet\"?"
   ]
  },
  {
   "cell_type": "code",
   "execution_count": 6,
   "metadata": {},
   "outputs": [
    {
     "output_type": "execute_result",
     "data": {
      "text/plain": "20"
     },
     "metadata": {},
     "execution_count": 6
    }
   ],
   "source": [
    "len(titles[titles.title==\"Hamlet\"])"
   ]
  },
  {
   "cell_type": "code",
   "execution_count": null,
   "metadata": {
    "collapsed": true
   },
   "outputs": [],
   "source": []
  },
  {
   "cell_type": "markdown",
   "metadata": {
    "collapsed": true
   },
   "source": [
    "### How many movies are titled \"North by Northwest\"?"
   ]
  },
  {
   "cell_type": "code",
   "execution_count": 7,
   "metadata": {},
   "outputs": [
    {
     "output_type": "execute_result",
     "data": {
      "text/plain": "1"
     },
     "metadata": {},
     "execution_count": 7
    }
   ],
   "source": [
    "len(titles[titles.title==\"North by Northwest\"])"
   ]
  },
  {
   "cell_type": "code",
   "execution_count": null,
   "metadata": {
    "collapsed": true
   },
   "outputs": [],
   "source": []
  },
  {
   "cell_type": "markdown",
   "metadata": {
    "collapsed": true
   },
   "source": [
    "### When was the first movie titled \"Hamlet\" made?"
   ]
  },
  {
   "cell_type": "code",
   "execution_count": 8,
   "metadata": {},
   "outputs": [
    {
     "output_type": "execute_result",
     "data": {
      "text/plain": "        title  year\n49308  Hamlet  1910",
      "text/html": "<div>\n<style scoped>\n    .dataframe tbody tr th:only-of-type {\n        vertical-align: middle;\n    }\n\n    .dataframe tbody tr th {\n        vertical-align: top;\n    }\n\n    .dataframe thead th {\n        text-align: right;\n    }\n</style>\n<table border=\"1\" class=\"dataframe\">\n  <thead>\n    <tr style=\"text-align: right;\">\n      <th></th>\n      <th>title</th>\n      <th>year</th>\n    </tr>\n  </thead>\n  <tbody>\n    <tr>\n      <td>49308</td>\n      <td>Hamlet</td>\n      <td>1910</td>\n    </tr>\n  </tbody>\n</table>\n</div>"
     },
     "metadata": {},
     "execution_count": 8
    }
   ],
   "source": [
    "t=titles\n",
    "t[t.title==\"Hamlet\"].sort_values('year').head(1)"
   ]
  },
  {
   "cell_type": "code",
   "execution_count": null,
   "metadata": {
    "collapsed": true
   },
   "outputs": [],
   "source": []
  },
  {
   "cell_type": "markdown",
   "metadata": {
    "collapsed": true
   },
   "source": [
    "### List all of the \"Treasure Island\" movies from earliest to most recent."
   ]
  },
  {
   "cell_type": "code",
   "execution_count": 9,
   "metadata": {},
   "outputs": [
    {
     "output_type": "execute_result",
     "data": {
      "text/plain": "                  title  year\n217091  Treasure Island  1918\n54095   Treasure Island  1920\n201357  Treasure Island  1934\n102046  Treasure Island  1950\n81338   Treasure Island  1972\n117328  Treasure Island  1973\n216419  Treasure Island  1985\n189010  Treasure Island  1999",
      "text/html": "<div>\n<style scoped>\n    .dataframe tbody tr th:only-of-type {\n        vertical-align: middle;\n    }\n\n    .dataframe tbody tr th {\n        vertical-align: top;\n    }\n\n    .dataframe thead th {\n        text-align: right;\n    }\n</style>\n<table border=\"1\" class=\"dataframe\">\n  <thead>\n    <tr style=\"text-align: right;\">\n      <th></th>\n      <th>title</th>\n      <th>year</th>\n    </tr>\n  </thead>\n  <tbody>\n    <tr>\n      <td>217091</td>\n      <td>Treasure Island</td>\n      <td>1918</td>\n    </tr>\n    <tr>\n      <td>54095</td>\n      <td>Treasure Island</td>\n      <td>1920</td>\n    </tr>\n    <tr>\n      <td>201357</td>\n      <td>Treasure Island</td>\n      <td>1934</td>\n    </tr>\n    <tr>\n      <td>102046</td>\n      <td>Treasure Island</td>\n      <td>1950</td>\n    </tr>\n    <tr>\n      <td>81338</td>\n      <td>Treasure Island</td>\n      <td>1972</td>\n    </tr>\n    <tr>\n      <td>117328</td>\n      <td>Treasure Island</td>\n      <td>1973</td>\n    </tr>\n    <tr>\n      <td>216419</td>\n      <td>Treasure Island</td>\n      <td>1985</td>\n    </tr>\n    <tr>\n      <td>189010</td>\n      <td>Treasure Island</td>\n      <td>1999</td>\n    </tr>\n  </tbody>\n</table>\n</div>"
     },
     "metadata": {},
     "execution_count": 9
    }
   ],
   "source": [
    "t[t.title==\"Treasure Island\"].sort_values('year')"
   ]
  },
  {
   "cell_type": "code",
   "execution_count": null,
   "metadata": {
    "collapsed": true
   },
   "outputs": [],
   "source": []
  },
  {
   "cell_type": "markdown",
   "metadata": {
    "collapsed": true
   },
   "source": [
    "### How many movies were made in the year 1950?"
   ]
  },
  {
   "cell_type": "code",
   "execution_count": 10,
   "metadata": {},
   "outputs": [
    {
     "output_type": "execute_result",
     "data": {
      "text/plain": "1113"
     },
     "metadata": {},
     "execution_count": 10
    }
   ],
   "source": [
    "len(t[t.year==1950])"
   ]
  },
  {
   "cell_type": "code",
   "execution_count": null,
   "metadata": {
    "collapsed": true
   },
   "outputs": [],
   "source": []
  },
  {
   "cell_type": "markdown",
   "metadata": {
    "collapsed": true
   },
   "source": [
    "### How many movies were made in the year 1960?"
   ]
  },
  {
   "cell_type": "code",
   "execution_count": 11,
   "metadata": {},
   "outputs": [
    {
     "output_type": "execute_result",
     "data": {
      "text/plain": "1549"
     },
     "metadata": {},
     "execution_count": 11
    }
   ],
   "source": [
    "len(t[t.year==1960])"
   ]
  },
  {
   "cell_type": "code",
   "execution_count": null,
   "metadata": {
    "collapsed": true
   },
   "outputs": [],
   "source": []
  },
  {
   "cell_type": "markdown",
   "metadata": {
    "collapsed": true
   },
   "source": [
    "### How many movies were made from 1950 through 1959?"
   ]
  },
  {
   "cell_type": "code",
   "execution_count": 12,
   "metadata": {},
   "outputs": [
    {
     "output_type": "execute_result",
     "data": {
      "text/plain": "12934"
     },
     "metadata": {},
     "execution_count": 12
    }
   ],
   "source": [
    "len(t[(t.year>=1950) & (t.year<=1959)])"
   ]
  },
  {
   "cell_type": "code",
   "execution_count": null,
   "metadata": {
    "collapsed": true
   },
   "outputs": [],
   "source": []
  },
  {
   "cell_type": "markdown",
   "metadata": {
    "collapsed": true
   },
   "source": [
    "### In what years has a movie titled \"Batman\" been released?"
   ]
  },
  {
   "cell_type": "code",
   "execution_count": 13,
   "metadata": {},
   "outputs": [
    {
     "output_type": "execute_result",
     "data": {
      "text/plain": "        title  year\n59052  Batman  1989\n78565  Batman  1943",
      "text/html": "<div>\n<style scoped>\n    .dataframe tbody tr th:only-of-type {\n        vertical-align: middle;\n    }\n\n    .dataframe tbody tr th {\n        vertical-align: top;\n    }\n\n    .dataframe thead th {\n        text-align: right;\n    }\n</style>\n<table border=\"1\" class=\"dataframe\">\n  <thead>\n    <tr style=\"text-align: right;\">\n      <th></th>\n      <th>title</th>\n      <th>year</th>\n    </tr>\n  </thead>\n  <tbody>\n    <tr>\n      <td>59052</td>\n      <td>Batman</td>\n      <td>1989</td>\n    </tr>\n    <tr>\n      <td>78565</td>\n      <td>Batman</td>\n      <td>1943</td>\n    </tr>\n  </tbody>\n</table>\n</div>"
     },
     "metadata": {},
     "execution_count": 13
    }
   ],
   "source": [
    "t[t.title==\"Batman\"]"
   ]
  },
  {
   "cell_type": "code",
   "execution_count": null,
   "metadata": {
    "collapsed": true
   },
   "outputs": [],
   "source": []
  },
  {
   "cell_type": "markdown",
   "metadata": {
    "collapsed": true
   },
   "source": [
    "### How many roles were there in the movie \"Inception\"?"
   ]
  },
  {
   "cell_type": "code",
   "execution_count": 14,
   "metadata": {},
   "outputs": [
    {
     "output_type": "execute_result",
     "data": {
      "text/plain": "78"
     },
     "metadata": {},
     "execution_count": 14
    }
   ],
   "source": [
    "c=cast\n",
    "len(c[c.title==\"Inception\"])"
   ]
  },
  {
   "cell_type": "code",
   "execution_count": null,
   "metadata": {
    "collapsed": true
   },
   "outputs": [],
   "source": []
  },
  {
   "cell_type": "markdown",
   "metadata": {
    "collapsed": true
   },
   "source": [
    "### How many roles in the movie \"Inception\" are NOT ranked by an \"n\" value?"
   ]
  },
  {
   "cell_type": "code",
   "execution_count": 15,
   "metadata": {},
   "outputs": [
    {
     "output_type": "execute_result",
     "data": {
      "text/plain": "27"
     },
     "metadata": {},
     "execution_count": 15
    }
   ],
   "source": [
    "c.head()\n",
    "len(c[(c.title==\"Inception\") & (c.n.isnull())])"
   ]
  },
  {
   "cell_type": "code",
   "execution_count": null,
   "metadata": {
    "collapsed": true
   },
   "outputs": [],
   "source": []
  },
  {
   "cell_type": "markdown",
   "metadata": {
    "collapsed": true
   },
   "source": [
    "### But how many roles in the movie \"Inception\" did receive an \"n\" value?"
   ]
  },
  {
   "cell_type": "code",
   "execution_count": 16,
   "metadata": {},
   "outputs": [
    {
     "output_type": "execute_result",
     "data": {
      "text/plain": "51"
     },
     "metadata": {},
     "execution_count": 16
    }
   ],
   "source": [
    "len(c[(c.title==\"Inception\") & (c.n.notnull())])"
   ]
  },
  {
   "cell_type": "code",
   "execution_count": null,
   "metadata": {
    "collapsed": true
   },
   "outputs": [],
   "source": []
  },
  {
   "cell_type": "markdown",
   "metadata": {
    "collapsed": true
   },
   "source": [
    "### Display the cast of \"North by Northwest\" in their correct \"n\"-value order, ignoring roles that did not earn a numeric \"n\" value."
   ]
  },
  {
   "cell_type": "code",
   "execution_count": 17,
   "metadata": {},
   "outputs": [
    {
     "output_type": "execute_result",
     "data": {
      "text/plain": "                      title  year                  name     type  \\\n871426   North by Northwest  1959            Cary Grant    actor   \n3518333  North by Northwest  1959       Eva Marie Saint  actress   \n1457165  North by Northwest  1959           James Mason    actor   \n3157232  North by Northwest  1959   Jessie Royce Landis  actress   \n356707   North by Northwest  1959        Leo G. Carroll    actor   \n3048272  North by Northwest  1959  Josephine Hutchinson  actress   \n1695173  North by Northwest  1959           Philip Ober    actor   \n1275337  North by Northwest  1959         Martin Landau    actor   \n2447081  North by Northwest  1959         Adam Williams    actor   \n1811387  North by Northwest  1959          Edward Platt    actor   \n665768   North by Northwest  1959     Robert Ellenstein    actor   \n2295714  North by Northwest  1959          Les Tremayne    actor   \n464736   North by Northwest  1959       Philip Coolidge    actor   \n1508344  North by Northwest  1959         Patrick McVey    actor   \n206471   North by Northwest  1959          Edward Binns    actor   \n1384780  North by Northwest  1959             Ken Lynch    actor   \n\n                           character     n  \n871426            Roger O. Thornhill   1.0  \n3518333                  Eve Kendall   2.0  \n1457165              Phillip Vandamm   3.0  \n3157232              Clara Thornhill   4.0  \n356707                 The Professor   5.0  \n3048272                Mrs. Townsend   6.0  \n1695173              Lester Townsend   7.0  \n1275337                      Leonard   8.0  \n2447081                     Valerian   9.0  \n1811387              Victor Larrabee  10.0  \n665768                         Licht  11.0  \n2295714                   Auctioneer  12.0  \n464736                     Dr. Cross  13.0  \n1508344               Sergeant Flamm  14.0  \n206471                Captain Junket  15.0  \n1384780  Charley - Chicago Policeman  16.0  ",
      "text/html": "<div>\n<style scoped>\n    .dataframe tbody tr th:only-of-type {\n        vertical-align: middle;\n    }\n\n    .dataframe tbody tr th {\n        vertical-align: top;\n    }\n\n    .dataframe thead th {\n        text-align: right;\n    }\n</style>\n<table border=\"1\" class=\"dataframe\">\n  <thead>\n    <tr style=\"text-align: right;\">\n      <th></th>\n      <th>title</th>\n      <th>year</th>\n      <th>name</th>\n      <th>type</th>\n      <th>character</th>\n      <th>n</th>\n    </tr>\n  </thead>\n  <tbody>\n    <tr>\n      <td>871426</td>\n      <td>North by Northwest</td>\n      <td>1959</td>\n      <td>Cary Grant</td>\n      <td>actor</td>\n      <td>Roger O. Thornhill</td>\n      <td>1.0</td>\n    </tr>\n    <tr>\n      <td>3518333</td>\n      <td>North by Northwest</td>\n      <td>1959</td>\n      <td>Eva Marie Saint</td>\n      <td>actress</td>\n      <td>Eve Kendall</td>\n      <td>2.0</td>\n    </tr>\n    <tr>\n      <td>1457165</td>\n      <td>North by Northwest</td>\n      <td>1959</td>\n      <td>James Mason</td>\n      <td>actor</td>\n      <td>Phillip Vandamm</td>\n      <td>3.0</td>\n    </tr>\n    <tr>\n      <td>3157232</td>\n      <td>North by Northwest</td>\n      <td>1959</td>\n      <td>Jessie Royce Landis</td>\n      <td>actress</td>\n      <td>Clara Thornhill</td>\n      <td>4.0</td>\n    </tr>\n    <tr>\n      <td>356707</td>\n      <td>North by Northwest</td>\n      <td>1959</td>\n      <td>Leo G. Carroll</td>\n      <td>actor</td>\n      <td>The Professor</td>\n      <td>5.0</td>\n    </tr>\n    <tr>\n      <td>3048272</td>\n      <td>North by Northwest</td>\n      <td>1959</td>\n      <td>Josephine Hutchinson</td>\n      <td>actress</td>\n      <td>Mrs. Townsend</td>\n      <td>6.0</td>\n    </tr>\n    <tr>\n      <td>1695173</td>\n      <td>North by Northwest</td>\n      <td>1959</td>\n      <td>Philip Ober</td>\n      <td>actor</td>\n      <td>Lester Townsend</td>\n      <td>7.0</td>\n    </tr>\n    <tr>\n      <td>1275337</td>\n      <td>North by Northwest</td>\n      <td>1959</td>\n      <td>Martin Landau</td>\n      <td>actor</td>\n      <td>Leonard</td>\n      <td>8.0</td>\n    </tr>\n    <tr>\n      <td>2447081</td>\n      <td>North by Northwest</td>\n      <td>1959</td>\n      <td>Adam Williams</td>\n      <td>actor</td>\n      <td>Valerian</td>\n      <td>9.0</td>\n    </tr>\n    <tr>\n      <td>1811387</td>\n      <td>North by Northwest</td>\n      <td>1959</td>\n      <td>Edward Platt</td>\n      <td>actor</td>\n      <td>Victor Larrabee</td>\n      <td>10.0</td>\n    </tr>\n    <tr>\n      <td>665768</td>\n      <td>North by Northwest</td>\n      <td>1959</td>\n      <td>Robert Ellenstein</td>\n      <td>actor</td>\n      <td>Licht</td>\n      <td>11.0</td>\n    </tr>\n    <tr>\n      <td>2295714</td>\n      <td>North by Northwest</td>\n      <td>1959</td>\n      <td>Les Tremayne</td>\n      <td>actor</td>\n      <td>Auctioneer</td>\n      <td>12.0</td>\n    </tr>\n    <tr>\n      <td>464736</td>\n      <td>North by Northwest</td>\n      <td>1959</td>\n      <td>Philip Coolidge</td>\n      <td>actor</td>\n      <td>Dr. Cross</td>\n      <td>13.0</td>\n    </tr>\n    <tr>\n      <td>1508344</td>\n      <td>North by Northwest</td>\n      <td>1959</td>\n      <td>Patrick McVey</td>\n      <td>actor</td>\n      <td>Sergeant Flamm</td>\n      <td>14.0</td>\n    </tr>\n    <tr>\n      <td>206471</td>\n      <td>North by Northwest</td>\n      <td>1959</td>\n      <td>Edward Binns</td>\n      <td>actor</td>\n      <td>Captain Junket</td>\n      <td>15.0</td>\n    </tr>\n    <tr>\n      <td>1384780</td>\n      <td>North by Northwest</td>\n      <td>1959</td>\n      <td>Ken Lynch</td>\n      <td>actor</td>\n      <td>Charley - Chicago Policeman</td>\n      <td>16.0</td>\n    </tr>\n  </tbody>\n</table>\n</div>"
     },
     "metadata": {},
     "execution_count": 17
    }
   ],
   "source": [
    "c[(c.title==\"North by Northwest\") & (c.n.notnull())].sort_values('n')"
   ]
  },
  {
   "cell_type": "code",
   "execution_count": null,
   "metadata": {
    "collapsed": true
   },
   "outputs": [],
   "source": []
  },
  {
   "cell_type": "markdown",
   "metadata": {
    "collapsed": true
   },
   "source": [
    "### Display the entire cast, in \"n\"-order, of the 1972 film \"Sleuth\"."
   ]
  },
  {
   "cell_type": "code",
   "execution_count": 18,
   "metadata": {},
   "outputs": [
    {
     "output_type": "execute_result",
     "data": {
      "text/plain": "          title  year                name     type  \\\n1705394  Sleuth  1972    Laurence Olivier    actor   \n326773   Sleuth  1972       Michael Caine    actor   \n373876   Sleuth  1972      Alec Cawthorne    actor   \n1465483  Sleuth  1972  John (II) Matthews    actor   \n2724553  Sleuth  1972  Eve (III) Channing  actress   \n1448690  Sleuth  1972        Teddy Martin    actor   \n\n                          character    n  \n1705394                 Andrew Wyke  1.0  \n326773                  Milo Tindle  2.0  \n373876            Inspector Doppler  3.0  \n1465483  Detective Sergeant Tarrant  4.0  \n2724553             Marguerite Wyke  5.0  \n1448690      Police Constable Higgs  6.0  ",
      "text/html": "<div>\n<style scoped>\n    .dataframe tbody tr th:only-of-type {\n        vertical-align: middle;\n    }\n\n    .dataframe tbody tr th {\n        vertical-align: top;\n    }\n\n    .dataframe thead th {\n        text-align: right;\n    }\n</style>\n<table border=\"1\" class=\"dataframe\">\n  <thead>\n    <tr style=\"text-align: right;\">\n      <th></th>\n      <th>title</th>\n      <th>year</th>\n      <th>name</th>\n      <th>type</th>\n      <th>character</th>\n      <th>n</th>\n    </tr>\n  </thead>\n  <tbody>\n    <tr>\n      <td>1705394</td>\n      <td>Sleuth</td>\n      <td>1972</td>\n      <td>Laurence Olivier</td>\n      <td>actor</td>\n      <td>Andrew Wyke</td>\n      <td>1.0</td>\n    </tr>\n    <tr>\n      <td>326773</td>\n      <td>Sleuth</td>\n      <td>1972</td>\n      <td>Michael Caine</td>\n      <td>actor</td>\n      <td>Milo Tindle</td>\n      <td>2.0</td>\n    </tr>\n    <tr>\n      <td>373876</td>\n      <td>Sleuth</td>\n      <td>1972</td>\n      <td>Alec Cawthorne</td>\n      <td>actor</td>\n      <td>Inspector Doppler</td>\n      <td>3.0</td>\n    </tr>\n    <tr>\n      <td>1465483</td>\n      <td>Sleuth</td>\n      <td>1972</td>\n      <td>John (II) Matthews</td>\n      <td>actor</td>\n      <td>Detective Sergeant Tarrant</td>\n      <td>4.0</td>\n    </tr>\n    <tr>\n      <td>2724553</td>\n      <td>Sleuth</td>\n      <td>1972</td>\n      <td>Eve (III) Channing</td>\n      <td>actress</td>\n      <td>Marguerite Wyke</td>\n      <td>5.0</td>\n    </tr>\n    <tr>\n      <td>1448690</td>\n      <td>Sleuth</td>\n      <td>1972</td>\n      <td>Teddy Martin</td>\n      <td>actor</td>\n      <td>Police Constable Higgs</td>\n      <td>6.0</td>\n    </tr>\n  </tbody>\n</table>\n</div>"
     },
     "metadata": {},
     "execution_count": 18
    }
   ],
   "source": [
    "c[(c.title==\"Sleuth\")&(c.year==1972)].sort_values('n')"
   ]
  },
  {
   "cell_type": "code",
   "execution_count": null,
   "metadata": {
    "collapsed": true
   },
   "outputs": [],
   "source": []
  },
  {
   "cell_type": "markdown",
   "metadata": {
    "collapsed": true
   },
   "source": [
    "### Now display the entire cast, in \"n\"-order, of the 2007 version of \"Sleuth\"."
   ]
  },
  {
   "cell_type": "code",
   "execution_count": 19,
   "metadata": {},
   "outputs": [
    {
     "output_type": "execute_result",
     "data": {
      "text/plain": "          title  year                 name     type          character    n\n326774   Sleuth  2007        Michael Caine    actor             Andrew  1.0\n1293634  Sleuth  2007             Jude Law    actor               Milo  2.0\n1805907  Sleuth  2007        Harold Pinter    actor        Man on T.V.  3.0\n260242   Sleuth  2007      Kenneth Branagh    actor  Other Man on T.V.  NaN\n373877   Sleuth  2007  Alec (II) Cawthorne    actor  Inspector Doppler  NaN\n2724552  Sleuth  2007    Eve (II) Channing  actress    Marguerite Wyke  NaN\n3370424  Sleuth  2007    Carmel O'Sullivan  actress             Maggie  NaN",
      "text/html": "<div>\n<style scoped>\n    .dataframe tbody tr th:only-of-type {\n        vertical-align: middle;\n    }\n\n    .dataframe tbody tr th {\n        vertical-align: top;\n    }\n\n    .dataframe thead th {\n        text-align: right;\n    }\n</style>\n<table border=\"1\" class=\"dataframe\">\n  <thead>\n    <tr style=\"text-align: right;\">\n      <th></th>\n      <th>title</th>\n      <th>year</th>\n      <th>name</th>\n      <th>type</th>\n      <th>character</th>\n      <th>n</th>\n    </tr>\n  </thead>\n  <tbody>\n    <tr>\n      <td>326774</td>\n      <td>Sleuth</td>\n      <td>2007</td>\n      <td>Michael Caine</td>\n      <td>actor</td>\n      <td>Andrew</td>\n      <td>1.0</td>\n    </tr>\n    <tr>\n      <td>1293634</td>\n      <td>Sleuth</td>\n      <td>2007</td>\n      <td>Jude Law</td>\n      <td>actor</td>\n      <td>Milo</td>\n      <td>2.0</td>\n    </tr>\n    <tr>\n      <td>1805907</td>\n      <td>Sleuth</td>\n      <td>2007</td>\n      <td>Harold Pinter</td>\n      <td>actor</td>\n      <td>Man on T.V.</td>\n      <td>3.0</td>\n    </tr>\n    <tr>\n      <td>260242</td>\n      <td>Sleuth</td>\n      <td>2007</td>\n      <td>Kenneth Branagh</td>\n      <td>actor</td>\n      <td>Other Man on T.V.</td>\n      <td>NaN</td>\n    </tr>\n    <tr>\n      <td>373877</td>\n      <td>Sleuth</td>\n      <td>2007</td>\n      <td>Alec (II) Cawthorne</td>\n      <td>actor</td>\n      <td>Inspector Doppler</td>\n      <td>NaN</td>\n    </tr>\n    <tr>\n      <td>2724552</td>\n      <td>Sleuth</td>\n      <td>2007</td>\n      <td>Eve (II) Channing</td>\n      <td>actress</td>\n      <td>Marguerite Wyke</td>\n      <td>NaN</td>\n    </tr>\n    <tr>\n      <td>3370424</td>\n      <td>Sleuth</td>\n      <td>2007</td>\n      <td>Carmel O'Sullivan</td>\n      <td>actress</td>\n      <td>Maggie</td>\n      <td>NaN</td>\n    </tr>\n  </tbody>\n</table>\n</div>"
     },
     "metadata": {},
     "execution_count": 19
    }
   ],
   "source": [
    "c[(c.title==\"Sleuth\")&(c.year==2007)].sort_values('n')"
   ]
  },
  {
   "cell_type": "code",
   "execution_count": null,
   "metadata": {
    "collapsed": true
   },
   "outputs": [],
   "source": []
  },
  {
   "cell_type": "markdown",
   "metadata": {
    "collapsed": true
   },
   "source": [
    "### How many roles were credited in the silent 1921 version of Hamlet?"
   ]
  },
  {
   "cell_type": "code",
   "execution_count": 20,
   "metadata": {},
   "outputs": [
    {
     "output_type": "execute_result",
     "data": {
      "text/plain": "9"
     },
     "metadata": {},
     "execution_count": 20
    }
   ],
   "source": [
    "len(c[(c.title==\"Hamlet\")&(c.year==1921)])"
   ]
  },
  {
   "cell_type": "code",
   "execution_count": null,
   "metadata": {
    "collapsed": true
   },
   "outputs": [],
   "source": []
  },
  {
   "cell_type": "markdown",
   "metadata": {
    "collapsed": true
   },
   "source": [
    "### How many roles were credited in Branagh’s 1996 Hamlet?"
   ]
  },
  {
   "cell_type": "code",
   "execution_count": 21,
   "metadata": {},
   "outputs": [
    {
     "output_type": "execute_result",
     "data": {
      "text/plain": "54"
     },
     "metadata": {},
     "execution_count": 21
    }
   ],
   "source": [
    "len(c[(c.title==\"Hamlet\")&(c.year==1996)])"
   ]
  },
  {
   "cell_type": "code",
   "execution_count": null,
   "metadata": {
    "collapsed": true
   },
   "outputs": [],
   "source": []
  },
  {
   "cell_type": "markdown",
   "metadata": {
    "collapsed": true
   },
   "source": [
    "### How many \"Hamlet\" roles have been listed in all film credits through history?"
   ]
  },
  {
   "cell_type": "code",
   "execution_count": 22,
   "metadata": {},
   "outputs": [
    {
     "output_type": "execute_result",
     "data": {
      "text/plain": "96"
     },
     "metadata": {},
     "execution_count": 22
    }
   ],
   "source": [
    "c=cast\n",
    "c=c[c.character==\"Hamlet\"]\n",
    "len(c)"
   ]
  },
  {
   "cell_type": "code",
   "execution_count": null,
   "metadata": {
    "collapsed": true
   },
   "outputs": [],
   "source": []
  },
  {
   "cell_type": "markdown",
   "metadata": {
    "collapsed": true
   },
   "source": [
    "### How many people have played an \"Ophelia\"?"
   ]
  },
  {
   "cell_type": "code",
   "execution_count": 23,
   "metadata": {},
   "outputs": [
    {
     "output_type": "execute_result",
     "data": {
      "text/plain": "115"
     },
     "metadata": {},
     "execution_count": 23
    }
   ],
   "source": [
    "c=cast\n",
    "c=c[c.character==\"Ophelia\"].name.unique()\n",
    "len(c)"
   ]
  },
  {
   "cell_type": "code",
   "execution_count": null,
   "metadata": {},
   "outputs": [],
   "source": []
  },
  {
   "cell_type": "markdown",
   "metadata": {
    "collapsed": true
   },
   "source": [
    "### How many people have played a role called \"The Dude\"?"
   ]
  },
  {
   "cell_type": "code",
   "execution_count": 39,
   "metadata": {},
   "outputs": [
    {
     "output_type": "execute_result",
     "data": {
      "text/plain": "19"
     },
     "metadata": {},
     "execution_count": 39
    }
   ],
   "source": [
    "c=cast\n",
    "c=c[c.character==\"The Dude\"].name.unique()\n",
    "len(c)"
   ]
  },
  {
   "cell_type": "code",
   "execution_count": null,
   "metadata": {
    "collapsed": true
   },
   "outputs": [],
   "source": []
  },
  {
   "cell_type": "markdown",
   "metadata": {
    "collapsed": true
   },
   "source": [
    "### How many people have played a role called \"The Stranger\"?"
   ]
  },
  {
   "cell_type": "code",
   "execution_count": 36,
   "metadata": {},
   "outputs": [
    {
     "output_type": "execute_result",
     "data": {
      "text/plain": "202"
     },
     "metadata": {},
     "execution_count": 36
    }
   ],
   "source": [
    "c=cast\n",
    "c=c[c.character==\"The Stranger\"].name.unique()\n",
    "len(c)"
   ]
  },
  {
   "cell_type": "code",
   "execution_count": null,
   "metadata": {
    "collapsed": true
   },
   "outputs": [],
   "source": []
  },
  {
   "cell_type": "markdown",
   "metadata": {
    "collapsed": true
   },
   "source": [
    "### How many roles has Sidney Poitier played throughout his career?"
   ]
  },
  {
   "cell_type": "code",
   "execution_count": 33,
   "metadata": {},
   "outputs": [
    {
     "output_type": "execute_result",
     "data": {
      "text/plain": "43"
     },
     "metadata": {},
     "execution_count": 33
    }
   ],
   "source": [
    "c=cast\n",
    "c.head()\n",
    "c=c[c.name==\"Sidney Poitier\"]\n",
    "len(c)"
   ]
  },
  {
   "cell_type": "code",
   "execution_count": null,
   "metadata": {
    "collapsed": true
   },
   "outputs": [],
   "source": []
  },
  {
   "cell_type": "markdown",
   "metadata": {
    "collapsed": true
   },
   "source": [
    "### How many roles has Judi Dench played?"
   ]
  },
  {
   "cell_type": "code",
   "execution_count": 47,
   "metadata": {
    "collapsed": true
   },
   "outputs": [
    {
     "output_type": "execute_result",
     "data": {
      "text/plain": "55"
     },
     "metadata": {},
     "execution_count": 47
    }
   ],
   "source": [
    "c=cast\n",
    "c=c[c.name==\"Judi Dench\"]\n",
    "len(c)"
   ]
  },
  {
   "cell_type": "code",
   "execution_count": null,
   "metadata": {
    "collapsed": true
   },
   "outputs": [],
   "source": []
  },
  {
   "cell_type": "markdown",
   "metadata": {
    "collapsed": true
   },
   "source": [
    "### List the supporting roles (having n=2) played by Cary Grant in the 1940s, in order by year."
   ]
  },
  {
   "cell_type": "code",
   "execution_count": 56,
   "metadata": {
    "collapsed": true
   },
   "outputs": [
    {
     "output_type": "execute_result",
     "data": {
      "text/plain": "                                    title  year                         name  \\\n3786171                           Foxtrot  1988            Lilja ??risd?ttir   \n3786172  Niceland (Population. 1.000.002)  2004    Sigr??ur J?na ??risd?ttir   \n3786173                         Skammdegi  1985           Dalla ??r?ard?ttir   \n3786174                      U.S.S.S.S...  2003  Krist?n Andrea ??r?ard?ttir   \n3786175                 Bye Bye Blue Bird  1999                 Rosa ? R?gvu   \n\n            type               character     n  \n3786171  actress                    D?ra  24.0  \n3786172  actress            Woman in Bus  26.0  \n3786173  actress           Hj?krunarkona   9.0  \n3786174  actress  Afgr.dama ? bens?nst??  17.0  \n3786175  actress       Pensionatv?rtinde   NaN  ",
      "text/html": "<div>\n<style scoped>\n    .dataframe tbody tr th:only-of-type {\n        vertical-align: middle;\n    }\n\n    .dataframe tbody tr th {\n        vertical-align: top;\n    }\n\n    .dataframe thead th {\n        text-align: right;\n    }\n</style>\n<table border=\"1\" class=\"dataframe\">\n  <thead>\n    <tr style=\"text-align: right;\">\n      <th></th>\n      <th>title</th>\n      <th>year</th>\n      <th>name</th>\n      <th>type</th>\n      <th>character</th>\n      <th>n</th>\n    </tr>\n  </thead>\n  <tbody>\n    <tr>\n      <td>3786171</td>\n      <td>Foxtrot</td>\n      <td>1988</td>\n      <td>Lilja ??risd?ttir</td>\n      <td>actress</td>\n      <td>D?ra</td>\n      <td>24.0</td>\n    </tr>\n    <tr>\n      <td>3786172</td>\n      <td>Niceland (Population. 1.000.002)</td>\n      <td>2004</td>\n      <td>Sigr??ur J?na ??risd?ttir</td>\n      <td>actress</td>\n      <td>Woman in Bus</td>\n      <td>26.0</td>\n    </tr>\n    <tr>\n      <td>3786173</td>\n      <td>Skammdegi</td>\n      <td>1985</td>\n      <td>Dalla ??r?ard?ttir</td>\n      <td>actress</td>\n      <td>Hj?krunarkona</td>\n      <td>9.0</td>\n    </tr>\n    <tr>\n      <td>3786174</td>\n      <td>U.S.S.S.S...</td>\n      <td>2003</td>\n      <td>Krist?n Andrea ??r?ard?ttir</td>\n      <td>actress</td>\n      <td>Afgr.dama ? bens?nst??</td>\n      <td>17.0</td>\n    </tr>\n    <tr>\n      <td>3786175</td>\n      <td>Bye Bye Blue Bird</td>\n      <td>1999</td>\n      <td>Rosa ? R?gvu</td>\n      <td>actress</td>\n      <td>Pensionatv?rtinde</td>\n      <td>NaN</td>\n    </tr>\n  </tbody>\n</table>\n</div>"
     },
     "metadata": {},
     "execution_count": 56
    },
    {
     "output_type": "execute_result",
     "data": {
      "text/plain": "                   title  year        name   type    character    n\n871423  My Favorite Wife  1940  Cary Grant  actor   Nick Arden  2.0\n871433    Penny Serenade  1941  Cary Grant  actor  Roger Adams  2.0",
      "text/html": "<div>\n<style scoped>\n    .dataframe tbody tr th:only-of-type {\n        vertical-align: middle;\n    }\n\n    .dataframe tbody tr th {\n        vertical-align: top;\n    }\n\n    .dataframe thead th {\n        text-align: right;\n    }\n</style>\n<table border=\"1\" class=\"dataframe\">\n  <thead>\n    <tr style=\"text-align: right;\">\n      <th></th>\n      <th>title</th>\n      <th>year</th>\n      <th>name</th>\n      <th>type</th>\n      <th>character</th>\n      <th>n</th>\n    </tr>\n  </thead>\n  <tbody>\n    <tr>\n      <td>871423</td>\n      <td>My Favorite Wife</td>\n      <td>1940</td>\n      <td>Cary Grant</td>\n      <td>actor</td>\n      <td>Nick Arden</td>\n      <td>2.0</td>\n    </tr>\n    <tr>\n      <td>871433</td>\n      <td>Penny Serenade</td>\n      <td>1941</td>\n      <td>Cary Grant</td>\n      <td>actor</td>\n      <td>Roger Adams</td>\n      <td>2.0</td>\n    </tr>\n  </tbody>\n</table>\n</div>"
     },
     "metadata": {},
     "execution_count": 56
    }
   ],
   "source": [
    "c=cast\n",
    "c=c[(c.name==\"Cary Grant\")&(c.year>=1940)&(c.year<1950)&(c.n==2)].sort_values('year')\n",
    "c"
   ]
  },
  {
   "cell_type": "code",
   "execution_count": null,
   "metadata": {
    "collapsed": true
   },
   "outputs": [],
   "source": []
  },
  {
   "cell_type": "markdown",
   "metadata": {
    "collapsed": true
   },
   "source": [
    "### List the leading roles that Cary Grant played in the 1940s in order by year."
   ]
  },
  {
   "cell_type": "code",
   "execution_count": 57,
   "metadata": {
    "collapsed": true
   },
   "outputs": [
    {
     "output_type": "execute_result",
     "data": {
      "text/plain": "                                       title  year        name   type  \\\n871448               The Howards of Virginia  1940  Cary Grant  actor   \n871407                       His Girl Friday  1940  Cary Grant  actor   \n871450                The Philadelphia Story  1940  Cary Grant  actor   \n871438                             Suspicion  1941  Cary Grant  actor   \n871452                  The Talk of the Town  1942  Cary Grant  actor   \n871429                 Once Upon a Honeymoon  1942  Cary Grant  actor   \n871398                     Destination Tokyo  1943  Cary Grant  actor   \n871422                             Mr. Lucky  1943  Cary Grant  actor   \n871430                      Once Upon a Time  1944  Cary Grant  actor   \n871390                  Arsenic and Old Lace  1944  Cary Grant  actor   \n871425             None But the Lonely Heart  1944  Cary Grant  actor   \n871424                         Night and Day  1946  Cary Grant  actor   \n871427                             Notorious  1946  Cary Grant  actor   \n871444      The Bachelor and the Bobby-Soxer  1947  Cary Grant  actor   \n871445                     The Bishop's Wife  1947  Cary Grant  actor   \n871421  Mr. Blandings Builds His Dream House  1948  Cary Grant  actor   \n871402          Every Girl Should Be Married  1948  Cary Grant  actor   \n871411                I Was a Male War Bride  1949  Cary Grant  actor   \n\n                                   character    n  \n871448                           Matt Howard  1.0  \n871407                          Walter Burns  1.0  \n871450                    C. K. Dexter Haven  1.0  \n871438                      Johnnie Aysgarth  1.0  \n871452                          Leopold Dilg  1.0  \n871429                 Patrick 'Pat' O'Toole  1.0  \n871398                         Capt. Cassidy  1.0  \n871422  Joe Adams -posing as Joe Bascopolous  1.0  \n871430                           Jerry Flynn  1.0  \n871390                     Mortimer Brewster  1.0  \n871425                            Ernie Mott  1.0  \n871424                           Cole Porter  1.0  \n871427                                Devlin  1.0  \n871444                           Dick Nugent  1.0  \n871445                                Dudley  1.0  \n871421                         Jim Blandings  1.0  \n871402                     Dr. Madison Brown  1.0  \n871411                 Captain Henri Rochard  1.0  ",
      "text/html": "<div>\n<style scoped>\n    .dataframe tbody tr th:only-of-type {\n        vertical-align: middle;\n    }\n\n    .dataframe tbody tr th {\n        vertical-align: top;\n    }\n\n    .dataframe thead th {\n        text-align: right;\n    }\n</style>\n<table border=\"1\" class=\"dataframe\">\n  <thead>\n    <tr style=\"text-align: right;\">\n      <th></th>\n      <th>title</th>\n      <th>year</th>\n      <th>name</th>\n      <th>type</th>\n      <th>character</th>\n      <th>n</th>\n    </tr>\n  </thead>\n  <tbody>\n    <tr>\n      <td>871448</td>\n      <td>The Howards of Virginia</td>\n      <td>1940</td>\n      <td>Cary Grant</td>\n      <td>actor</td>\n      <td>Matt Howard</td>\n      <td>1.0</td>\n    </tr>\n    <tr>\n      <td>871407</td>\n      <td>His Girl Friday</td>\n      <td>1940</td>\n      <td>Cary Grant</td>\n      <td>actor</td>\n      <td>Walter Burns</td>\n      <td>1.0</td>\n    </tr>\n    <tr>\n      <td>871450</td>\n      <td>The Philadelphia Story</td>\n      <td>1940</td>\n      <td>Cary Grant</td>\n      <td>actor</td>\n      <td>C. K. Dexter Haven</td>\n      <td>1.0</td>\n    </tr>\n    <tr>\n      <td>871438</td>\n      <td>Suspicion</td>\n      <td>1941</td>\n      <td>Cary Grant</td>\n      <td>actor</td>\n      <td>Johnnie Aysgarth</td>\n      <td>1.0</td>\n    </tr>\n    <tr>\n      <td>871452</td>\n      <td>The Talk of the Town</td>\n      <td>1942</td>\n      <td>Cary Grant</td>\n      <td>actor</td>\n      <td>Leopold Dilg</td>\n      <td>1.0</td>\n    </tr>\n    <tr>\n      <td>871429</td>\n      <td>Once Upon a Honeymoon</td>\n      <td>1942</td>\n      <td>Cary Grant</td>\n      <td>actor</td>\n      <td>Patrick 'Pat' O'Toole</td>\n      <td>1.0</td>\n    </tr>\n    <tr>\n      <td>871398</td>\n      <td>Destination Tokyo</td>\n      <td>1943</td>\n      <td>Cary Grant</td>\n      <td>actor</td>\n      <td>Capt. Cassidy</td>\n      <td>1.0</td>\n    </tr>\n    <tr>\n      <td>871422</td>\n      <td>Mr. Lucky</td>\n      <td>1943</td>\n      <td>Cary Grant</td>\n      <td>actor</td>\n      <td>Joe Adams -posing as Joe Bascopolous</td>\n      <td>1.0</td>\n    </tr>\n    <tr>\n      <td>871430</td>\n      <td>Once Upon a Time</td>\n      <td>1944</td>\n      <td>Cary Grant</td>\n      <td>actor</td>\n      <td>Jerry Flynn</td>\n      <td>1.0</td>\n    </tr>\n    <tr>\n      <td>871390</td>\n      <td>Arsenic and Old Lace</td>\n      <td>1944</td>\n      <td>Cary Grant</td>\n      <td>actor</td>\n      <td>Mortimer Brewster</td>\n      <td>1.0</td>\n    </tr>\n    <tr>\n      <td>871425</td>\n      <td>None But the Lonely Heart</td>\n      <td>1944</td>\n      <td>Cary Grant</td>\n      <td>actor</td>\n      <td>Ernie Mott</td>\n      <td>1.0</td>\n    </tr>\n    <tr>\n      <td>871424</td>\n      <td>Night and Day</td>\n      <td>1946</td>\n      <td>Cary Grant</td>\n      <td>actor</td>\n      <td>Cole Porter</td>\n      <td>1.0</td>\n    </tr>\n    <tr>\n      <td>871427</td>\n      <td>Notorious</td>\n      <td>1946</td>\n      <td>Cary Grant</td>\n      <td>actor</td>\n      <td>Devlin</td>\n      <td>1.0</td>\n    </tr>\n    <tr>\n      <td>871444</td>\n      <td>The Bachelor and the Bobby-Soxer</td>\n      <td>1947</td>\n      <td>Cary Grant</td>\n      <td>actor</td>\n      <td>Dick Nugent</td>\n      <td>1.0</td>\n    </tr>\n    <tr>\n      <td>871445</td>\n      <td>The Bishop's Wife</td>\n      <td>1947</td>\n      <td>Cary Grant</td>\n      <td>actor</td>\n      <td>Dudley</td>\n      <td>1.0</td>\n    </tr>\n    <tr>\n      <td>871421</td>\n      <td>Mr. Blandings Builds His Dream House</td>\n      <td>1948</td>\n      <td>Cary Grant</td>\n      <td>actor</td>\n      <td>Jim Blandings</td>\n      <td>1.0</td>\n    </tr>\n    <tr>\n      <td>871402</td>\n      <td>Every Girl Should Be Married</td>\n      <td>1948</td>\n      <td>Cary Grant</td>\n      <td>actor</td>\n      <td>Dr. Madison Brown</td>\n      <td>1.0</td>\n    </tr>\n    <tr>\n      <td>871411</td>\n      <td>I Was a Male War Bride</td>\n      <td>1949</td>\n      <td>Cary Grant</td>\n      <td>actor</td>\n      <td>Captain Henri Rochard</td>\n      <td>1.0</td>\n    </tr>\n  </tbody>\n</table>\n</div>"
     },
     "metadata": {},
     "execution_count": 57
    }
   ],
   "source": [
    "c=cast\n",
    "c=c[(c.name==\"Cary Grant\")&(c.year>=1940)&(c.year<1950)&(c.n==1)].sort_values('year')\n",
    "c"
   ]
  },
  {
   "cell_type": "code",
   "execution_count": null,
   "metadata": {
    "collapsed": true
   },
   "outputs": [],
   "source": []
  },
  {
   "cell_type": "markdown",
   "metadata": {
    "collapsed": true
   },
   "source": [
    "### How many roles were available for actors in the 1950s?"
   ]
  },
  {
   "cell_type": "code",
   "execution_count": 65,
   "metadata": {
    "collapsed": true
   },
   "outputs": [
    {
     "output_type": "execute_result",
     "data": {
      "text/plain": "                           title  year                  name   type  \\\n66               Fire Down Below  1957  'Stretch' Cox Troupe  actor   \n68            Dorp aan de rivier  1958         Frans 't Hoen  actor   \n111         Ci sposeremo a Capri  1956         Quartetto 2+2  actor   \n119               Die Todesarena  1953      Die 3 Motorellos  actor   \n288             Palletoori Pilla  1950        Subba Rao A.V.  actor   \n...                          ...   ...                   ...    ...   \n2532460         Salve sauegjeter  1958           ?yvind ?yen  actor   \n2532468          La noche avanza  1952       Francisco ?beda  actor   \n2532533                Yaban kiz  1954             Memduh ?n  actor   \n2532643  Barbaros Hayrettin Pasa  1951          Ali ?st?ntas  actor   \n2532644                 Kara Efe  1952          Ali ?st?ntas  actor   \n\n                   character     n  \n66            Limbo Dance by  20.0  \n68                  Dirk Jan  15.0  \n111               Themselves  19.0  \n119               Themselves   NaN  \n288            Kampanna Dora   4.0  \n...                      ...   ...  \n2532460  Asbj?rn, sauegjeter   2.0  \n2532468             Pelotari  21.0  \n2532533               Mehmet   4.0  \n2532643               Levend   NaN  \n2532644             Kara Efe   1.0  \n\n[157738 rows x 6 columns]",
      "text/html": "<div>\n<style scoped>\n    .dataframe tbody tr th:only-of-type {\n        vertical-align: middle;\n    }\n\n    .dataframe tbody tr th {\n        vertical-align: top;\n    }\n\n    .dataframe thead th {\n        text-align: right;\n    }\n</style>\n<table border=\"1\" class=\"dataframe\">\n  <thead>\n    <tr style=\"text-align: right;\">\n      <th></th>\n      <th>title</th>\n      <th>year</th>\n      <th>name</th>\n      <th>type</th>\n      <th>character</th>\n      <th>n</th>\n    </tr>\n  </thead>\n  <tbody>\n    <tr>\n      <td>66</td>\n      <td>Fire Down Below</td>\n      <td>1957</td>\n      <td>'Stretch' Cox Troupe</td>\n      <td>actor</td>\n      <td>Limbo Dance by</td>\n      <td>20.0</td>\n    </tr>\n    <tr>\n      <td>68</td>\n      <td>Dorp aan de rivier</td>\n      <td>1958</td>\n      <td>Frans 't Hoen</td>\n      <td>actor</td>\n      <td>Dirk Jan</td>\n      <td>15.0</td>\n    </tr>\n    <tr>\n      <td>111</td>\n      <td>Ci sposeremo a Capri</td>\n      <td>1956</td>\n      <td>Quartetto 2+2</td>\n      <td>actor</td>\n      <td>Themselves</td>\n      <td>19.0</td>\n    </tr>\n    <tr>\n      <td>119</td>\n      <td>Die Todesarena</td>\n      <td>1953</td>\n      <td>Die 3 Motorellos</td>\n      <td>actor</td>\n      <td>Themselves</td>\n      <td>NaN</td>\n    </tr>\n    <tr>\n      <td>288</td>\n      <td>Palletoori Pilla</td>\n      <td>1950</td>\n      <td>Subba Rao A.V.</td>\n      <td>actor</td>\n      <td>Kampanna Dora</td>\n      <td>4.0</td>\n    </tr>\n    <tr>\n      <td>...</td>\n      <td>...</td>\n      <td>...</td>\n      <td>...</td>\n      <td>...</td>\n      <td>...</td>\n      <td>...</td>\n    </tr>\n    <tr>\n      <td>2532460</td>\n      <td>Salve sauegjeter</td>\n      <td>1958</td>\n      <td>?yvind ?yen</td>\n      <td>actor</td>\n      <td>Asbj?rn, sauegjeter</td>\n      <td>2.0</td>\n    </tr>\n    <tr>\n      <td>2532468</td>\n      <td>La noche avanza</td>\n      <td>1952</td>\n      <td>Francisco ?beda</td>\n      <td>actor</td>\n      <td>Pelotari</td>\n      <td>21.0</td>\n    </tr>\n    <tr>\n      <td>2532533</td>\n      <td>Yaban kiz</td>\n      <td>1954</td>\n      <td>Memduh ?n</td>\n      <td>actor</td>\n      <td>Mehmet</td>\n      <td>4.0</td>\n    </tr>\n    <tr>\n      <td>2532643</td>\n      <td>Barbaros Hayrettin Pasa</td>\n      <td>1951</td>\n      <td>Ali ?st?ntas</td>\n      <td>actor</td>\n      <td>Levend</td>\n      <td>NaN</td>\n    </tr>\n    <tr>\n      <td>2532644</td>\n      <td>Kara Efe</td>\n      <td>1952</td>\n      <td>Ali ?st?ntas</td>\n      <td>actor</td>\n      <td>Kara Efe</td>\n      <td>1.0</td>\n    </tr>\n  </tbody>\n</table>\n<p>157738 rows × 6 columns</p>\n</div>"
     },
     "metadata": {},
     "execution_count": 65
    },
    {
     "output_type": "execute_result",
     "data": {
      "text/plain": "157738"
     },
     "metadata": {},
     "execution_count": 65
    },
    {
     "output_type": "execute_result",
     "data": {
      "text/plain": "157738"
     },
     "metadata": {},
     "execution_count": 65
    }
   ],
   "source": [
    "c=cast\n",
    "c=c[(c.year//10==195)&(c.type==\"actor\")] # Instead of having two conditions to use year, basically doing mod10 by using \"c.year//10\"\n",
    "c\n",
    "len(c)"
   ]
  },
  {
   "cell_type": "code",
   "execution_count": null,
   "metadata": {
    "collapsed": true
   },
   "outputs": [],
   "source": []
  },
  {
   "cell_type": "markdown",
   "metadata": {
    "collapsed": true
   },
   "source": [
    "### How many roles were available for actresses in the 1950s?"
   ]
  },
  {
   "cell_type": "code",
   "execution_count": 68,
   "metadata": {
    "collapsed": true
   },
   "outputs": [
    {
     "output_type": "execute_result",
     "data": {
      "text/plain": "57733"
     },
     "metadata": {},
     "execution_count": 68
    }
   ],
   "source": [
    "c=cast\n",
    "c=c[(c.year//10==195)&(c.type==\"actress\")]\n",
    "len(c)"
   ]
  },
  {
   "cell_type": "code",
   "execution_count": 71,
   "metadata": {
    "collapsed": true
   },
   "outputs": [
    {
     "output_type": "execute_result",
     "data": {
      "text/plain": "57733"
     },
     "metadata": {},
     "execution_count": 71
    }
   ],
   "source": [
    "c = cast\n",
    "c = c[c.year // 10 == 195]\n",
    "c = c[c.type == 'actress']\n",
    "len(c) # Answer ok"
   ]
  },
  {
   "cell_type": "markdown",
   "metadata": {
    "collapsed": true
   },
   "source": [
    "### How many leading roles (n=1) were available from the beginning of film history through 1980?"
   ]
  },
  {
   "cell_type": "code",
   "execution_count": 69,
   "metadata": {
    "collapsed": true
   },
   "outputs": [
    {
     "output_type": "execute_result",
     "data": {
      "text/plain": "65140"
     },
     "metadata": {},
     "execution_count": 69
    }
   ],
   "source": [
    "c=cast\n",
    "c=c[(c.year<=1980)&(c.n==1)]\n",
    "len(c)"
   ]
  },
  {
   "cell_type": "code",
   "execution_count": 72,
   "metadata": {
    "collapsed": true
   },
   "outputs": [
    {
     "output_type": "execute_result",
     "data": {
      "text/plain": "65140"
     },
     "metadata": {},
     "execution_count": 72
    }
   ],
   "source": [
    "c = cast\n",
    "c = c[c.year <= 1980]\n",
    "c = c[c.n == 1]\n",
    "len(c) # Answer ok"
   ]
  },
  {
   "cell_type": "markdown",
   "metadata": {
    "collapsed": true
   },
   "source": [
    "### How many non-leading roles were available through from the beginning of film history through 1980?"
   ]
  },
  {
   "cell_type": "code",
   "execution_count": 74,
   "metadata": {
    "collapsed": true
   },
   "outputs": [
    {
     "output_type": "execute_result",
     "data": {
      "text/plain": "1117667"
     },
     "metadata": {},
     "execution_count": 74
    }
   ],
   "source": [
    "c=cast\n",
    "c=c[(c.year<=1980)&(c.n!=1)]\n",
    "len(c)"
   ]
  },
  {
   "cell_type": "code",
   "execution_count": 75,
   "metadata": {
    "collapsed": true
   },
   "outputs": [
    {
     "output_type": "execute_result",
     "data": {
      "text/plain": "1117667"
     },
     "metadata": {},
     "execution_count": 75
    }
   ],
   "source": [
    "c = cast\n",
    "c = c[c.year <= 1980]\n",
    "c = c[c.n != 1]\n",
    "len(c) # Answer ok"
   ]
  },
  {
   "cell_type": "markdown",
   "metadata": {
    "collapsed": true
   },
   "source": [
    "### How many roles through 1980 were minor enough that they did not warrant a numeric \"n\" rank?"
   ]
  },
  {
   "cell_type": "code",
   "execution_count": 76,
   "metadata": {
    "collapsed": true
   },
   "outputs": [
    {
     "output_type": "execute_result",
     "data": {
      "text/plain": "448347"
     },
     "metadata": {},
     "execution_count": 76
    }
   ],
   "source": [
    "c=cast\n",
    "c=c[(c.year<=1980)&(c.n.isnull())]\n",
    "len(c)"
   ]
  },
  {
   "cell_type": "code",
   "execution_count": 77,
   "metadata": {
    "collapsed": true
   },
   "outputs": [
    {
     "output_type": "execute_result",
     "data": {
      "text/plain": "448347"
     },
     "metadata": {},
     "execution_count": 77
    }
   ],
   "source": [
    "c = cast\n",
    "c = c[c.year <= 1980]\n",
    "c = c[c.n.isnull()]\n",
    "len(c) # Answer ok"
   ]
  }
 ],
 "metadata": {
  "kernelspec": {
   "display_name": "Python 3",
   "language": "python",
   "name": "python3"
  },
  "language_info": {
   "codemirror_mode": {
    "name": "ipython",
    "version": 3
   },
   "file_extension": ".py",
   "mimetype": "text/x-python",
   "name": "python",
   "nbconvert_exporter": "python",
   "pygments_lexer": "ipython3",
   "version": "3.7.4-final"
  }
 },
 "nbformat": 4,
 "nbformat_minor": 1
}